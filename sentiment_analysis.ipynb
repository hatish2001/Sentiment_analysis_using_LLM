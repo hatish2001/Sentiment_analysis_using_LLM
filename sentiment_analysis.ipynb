{
 "cells": [
  {
   "cell_type": "markdown",
   "metadata": {},
   "source": [
    "Homework 4: Sentiment Analysis - Task 0, Task 1, Task 5 (all primarily written tasks)\n",
    "----\n",
    "\n",
    "The following instructions are only written in this notebook but apply to all notebooks and `.py` files you submit for this homework.\n",
    "\n",
    "Due date: October 25th, 2023\n",
    "\n",
    "Points: \n",
    "- Task 0: 5 points\n",
    "- Task 1: 10 points\n",
    "- Task 2: 30 points\n",
    "- Task 3: 20 points\n",
    "- Task 4: 20 points\n",
    "- Task 5: 15 points\n",
    "\n",
    "Goals:\n",
    "- understand the difficulties of counting and probablities in NLP applications\n",
    "- work with real world data to build a functioning language model\n",
    "- stress test your model (to some extent)\n",
    "\n",
    "Complete in groups of: __two (pairs)__. If you prefer to work on your own, you may, but be aware that this homework has been designed as a partner project.\n",
    "\n",
    "Allowed python modules:\n",
    "- `numpy`, `matplotlib`, `keras`, `pytorch`, `nltk`, `pandas`, `sci-kit learn` (`sklearn`), `seaborn`, and all built-in python libraries (e.g. `math` and `string`)\n",
    "- if you would like to use a library not on this list, post on piazza to request permission\n",
    "- all *necessary* imports have been included for you (all imports that we used in our solution)\n",
    "\n",
    "Instructions:\n",
    "- Complete outlined problems in this notebook. \n",
    "- When you have finished, __clear the kernel__ and __run__ your notebook \"fresh\" from top to bottom. Ensure that there are __no errors__. \n",
    "    - If a problem asks for you to write code that does result in an error (as in, the answer to the problem is an error), leave the code in your notebook but commented out so that running from top to bottom does not result in any errors.\n",
    "- Double check that you have completed Task 0.\n",
    "- Submit your work on Gradescope.\n",
    "- Double check that your submission on Gradescope looks like you believe it should __and__ that all partners are included (for partner work).\n",
    "\n",
    "6120 students: complete __all__ problems.\n",
    "\n",
    "4120 students: you are not required to complete problems marked \"CS 6120 REQUIRED\". If you complete these you will not get extra credit. We will not take points off if you attempt these problems and do not succeed."
   ]
  },
  {
   "cell_type": "markdown",
   "metadata": {},
   "source": [
    "Names & Sections\n",
    "----\n",
    "Names: Harishraj Udaya Bhaskar, Aushee Khamesra  (6120 students) (Write these in every notebook you submit. For each partner, write down whether you are a 4120 or a 6120 student.)\n"
   ]
  },
  {
   "cell_type": "markdown",
   "metadata": {},
   "source": [
    "Task 0: Name, References, Reflection (5 points)\n",
    "---\n",
    "\n",
    "References\n",
    "---\n",
    "List the resources you consulted to complete this homework here. Write one sentence per resource about what it provided to you. If you consulted no references to complete your assignment, write a brief sentence stating that this is the case and why it was the case for you.\n",
    "\n",
    "(Example)\n",
    "- https://docs.python.org/3/tutorial/datastructures.html\n",
    "    - Read about the the basics and syntax for data structures in python.\n",
    "\n",
    "AI Collaboration\n",
    "---\n",
    "Following the *AI Collaboration Policy* in the syllabus, please cite any LLMs that you used here and briefly describe what you used them for. Additionally, provide comments in-line identifying the specific sections that you used LLMs on, if you used them towards the generation of any of your answers.\n",
    "\n",
    "__NEW__: Do not include nested list comprehensions supplied by AI collaborators — all nested lists comprehensions __must__ be re-written.\n",
    "\n",
    "Reflection\n",
    "----\n",
    "Answer the following questions __after__ you complete this assignment (no more than 1 sentence per question required, this section is graded on completion):\n",
    "\n",
    "1. Does this work reflect your best effort?\n",
    "2. What was/were the most challenging part(s) of the assignment?\n",
    "3. If you want feedback, what function(s) or problem(s) would you like feedback on and why?\n",
    "4. Briefly reflect on how your partnership functioned--who did which tasks, how was the workload on each of you individually as compared to the previous homeworks, etc."
   ]
  },
  {
   "cell_type": "markdown",
   "metadata": {},
   "source": [
    "Task 1: Provided Data Write-Up (10 points)\n",
    "---\n",
    "\n",
    "Every time you use a data set in an NLP application (or in any software application), you should be able to answer a set of questions about that data. Answer these now. Default to no more than 1 sentence per question needed. If more explanation is necessary, do give it."
   ]
  },
  {
   "cell_type": "markdown",
   "metadata": {},
   "source": [
    "This is about the __provided__ movie review data set.\n",
    "\n",
    "1. Where did you get the data from? The provided dataset(s) were sub-sampled from https://www.kaggle.com/datasets/lakshmi25npathi/imdb-dataset-of-50k-movie-reviews \n",
    "2. (1 pt) How was the data collected (where did the people acquiring the data get it from and how)? \n",
    "\n",
    "The data was collected from the movie webstier called IMDB \n",
    "\n",
    "3. (2 pts) How large is the dataset (answer for both the train and the dev set, separately)? (# reviews, # tokens in both the train and dev sets)\n",
    "\n",
    "Train data- 425421 tokens \n",
    "Test data- 54603 tokens\n",
    "\n",
    "4. (1 pt) What is your data? (i.e. newswire, tweets, books, blogs, etc) \n",
    "\n",
    "Data is tweets and blogs posted by people on IMDB regrading a movie\n",
    "\n",
    "5. (1 pt) Who produced the data? (who were the authors of the text? Your answer might be a specific person or a particular group of people)\n",
    "\n",
    "Maas, Andrew L.  and  Daly, Raymond E.  and  Pham, Peter T.  and  Huang, Dan  and  Ng, Andrew Y.  and  Potts, Christopher\n",
    "\n",
    "6. (2 pts) What is the distribution of labels in the data (answer for both the train and the dev set, separately)?\n",
    "\n",
    "Training data:\n",
    "0- 796\n",
    "1-804\n",
    "\n",
    "Testing data:\n",
    "0-95\n",
    "1-105\n",
    "\n",
    "7. (2 pts) How large is the vocabulary (answer for both the train and the dev set, separately)?\n",
    "Train dataset vocabulary: 30705\n",
    "Test dataset vocabulary :8953\n",
    "8. (1 pt) How big is the overlap between the vocabulary for the train and dev set?\n"
   ]
  },
  {
   "cell_type": "code",
   "execution_count": 2,
   "metadata": {},
   "outputs": [
    {
     "name": "stderr",
     "output_type": "stream",
     "text": [
      "[nltk_data] Downloading package punkt to /Users/harisha/nltk_data...\n",
      "[nltk_data]   Package punkt is already up-to-date!\n"
     ]
    }
   ],
   "source": [
    "# our utility functions\n",
    "# RESTART your jupyter notebook kernel if you make changes to this file\n",
    "import sentiment_utils as sutils\n",
    "\n"
   ]
  },
  {
   "cell_type": "code",
   "execution_count": 3,
   "metadata": {},
   "outputs": [
    {
     "name": "stdout",
     "output_type": "stream",
     "text": [
      "The total number of training tokens:425421\n",
      "The total number of testing tokens:54603\n"
     ]
    }
   ],
   "source": [
    "# Feel free to write code to help answer the above questions\n",
    "tokens_train=sutils.generate_tuples_from_file('/Users/harisha/Downloads/HW4/movie_reviews_train.txt')\n",
    "tokens_test=sutils.generate_tuples_from_file('/Users/harisha/Downloads/HW4/movie_reviews_dev.txt')\n",
    "total_train_tokens,total_test_tokens=0,0\n",
    "for i in range(0,len(tokens_train[0])):\n",
    "    total_train_tokens+=len(tokens_train[0][i])\n",
    "\n",
    "for i in range(0,len(tokens_test[0])):\n",
    "    total_test_tokens+=len(tokens_test[0][i])\n",
    "\n",
    "\n",
    "\n",
    "\n",
    "print(f'The total number of training tokens:{total_train_tokens}')\n",
    "print(f'The total number of testing tokens:{total_test_tokens}')"
   ]
  },
  {
   "cell_type": "code",
   "execution_count": 4,
   "metadata": {},
   "outputs": [
    {
     "name": "stdout",
     "output_type": "stream",
     "text": [
      "796\n",
      "804\n"
     ]
    }
   ],
   "source": [
    "#To find the distribution of 0,1 in the training data set\n",
    "count_0_train=0\n",
    "count_1_train=0\n",
    "for i in range(0,len(tokens_train[0])):\n",
    "    if tokens_train[1][i]==0:\n",
    "        count_0_train+=1\n",
    "    else:\n",
    "        count_1_train+=1\n",
    "\n",
    "print(count_0_train)\n",
    "print(count_1_train)\n"
   ]
  },
  {
   "cell_type": "code",
   "execution_count": 5,
   "metadata": {},
   "outputs": [
    {
     "name": "stdout",
     "output_type": "stream",
     "text": [
      "95\n",
      "105\n"
     ]
    }
   ],
   "source": [
    "#To find the distribution of 0,1 in the testing data set\n",
    "count_0_test=0\n",
    "count_1_test=0\n",
    "for i in range(0,len(tokens_test[0])):\n",
    "    if tokens_test[1][i]==0:\n",
    "        count_0_test+=1\n",
    "    else:\n",
    "        count_1_test+=1\n",
    "\n",
    "print(count_0_test)\n",
    "print(count_1_test)\n"
   ]
  },
  {
   "cell_type": "code",
   "execution_count": 19,
   "metadata": {},
   "outputs": [
    {
     "name": "stdout",
     "output_type": "stream",
     "text": [
      "30705\n",
      "8953\n"
     ]
    }
   ],
   "source": [
    "#To calculate the train dataset vocabulary\n",
    "train_vocab=set()\n",
    "for i in range(0,len(tokens_train[0])):\n",
    "    train_vocab.update((tokens_train[0][i]))\n",
    "print(len(train_vocab))\n",
    "\n",
    "\n",
    "#To calculate the test dataset vocabulary\n",
    "test_vocab=set()\n",
    "for i in range(0,len(tokens_test[0])):\n",
    "    test_vocab.update((tokens_test[0][i]))\n",
    "print(len(test_vocab))\n",
    "\n",
    "    "
   ]
  },
  {
   "cell_type": "markdown",
   "metadata": {},
   "source": [
    "Task 5: Model Evaluation (15 points)\n",
    "---\n",
    "Save your three graph files for the __best__ configurations that you found with your models using the `plt.savefig(filename)` command. The `bbox_inches` optional parameter will help you control how much whitespace outside of the graph is in your resulting image.\n",
    "Run your each notebook containing a classifier 3 times, resulting in __NINE__ saved graphed (don't just overwrite your previous ones).\n",
    "\n",
    "You will turn in all of these files.\n",
    "\n",
    "10 points in this section are allocated for having all nine graphs legible, properly labeled, and present.\n"
   ]
  },
  {
   "cell_type": "markdown",
   "metadata": {},
   "source": [
    "\n",
    "\n",
    "1. (1 pt) When using __10%__ of your data, which model had the highest f1 score?\n",
    "2. (1 pt) Which classifier had the most __consistent__ performance (that is, which classifier had the least variation across all three graphs you have for it -- no need to mathematically calculate this, you can just look at the graphs)?\n",
    "3. (1 pt) For each model, what percentage of training data resulted in the highest f1 score?\n",
    "    1. Naive Bayes:\n",
    "    2. Logistic Regression:\n",
    "    3. Neural Net:\n",
    "4. (2 pts) Which model, if any, appeared to overfit the training data the most? Why?\n"
   ]
  },
  {
   "cell_type": "markdown",
   "metadata": {},
   "source": [
    "6120 REQUIRED\n",
    "----\n",
    "\n",
    "Find a second data set that is labeled for sentiment from a different domain (not movie reivews). Rerun your notebook with this data (you should set up your notebook so that you only need to change the paths and possibly run a different pre-processing function on the data). Note that you will want binary labels.\n",
    "\n",
    "Answer the regular data questions for your new data set\n",
    "----\n",
    "1. Where did you get the data from?\n",
    "2. How was the data collected (where did the people acquiring the data get it from and how)?\n",
    "3. How large is the dataset (answer for both the train and the dev set, separately)? (# reviews, # tokens in both the train and dev sets)\n",
    "4. What is your data? (i.e. newswire, tweets, books, blogs, etc)\n",
    "5. Who produced the data? (who were the authors of the text? Your answer might be a specific person or a particular group of people)\n",
    "6. What is the distribution of labels in the data (answer for both the train and the dev set, separately)?\n",
    "7. How large is the vocabulary (answer for both the train and the dev set, separately)?\n",
    "8. How big is the overlap between the vocabulary for the train and dev set?\n",
    "\n",
    "Answer the model evaluation questions for your new data set\n",
    "----\n",
    "1. When using __10%__ of your data, which model had the highest f1 score?\n",
    "\n",
    "When using 10% of the data, the naive bayes model had the highest f1 score.\n",
    "\n",
    "2. Which classifier had the most __consistent__ performance (that is, which classifier had the least variation \n",
    "across all three graphs you have for it -- no need to mathematically calculate this, you can just look at the graphs)?\n",
    "\n",
    "The neural net model had the most consistent performance.\n",
    "\n",
    "3. For each model, what percentage of training data resulted in the highest f1 score?\n",
    "    1. Naive Bayes:80%\n",
    "    2. Logistic Regression:90%\n",
    "    3. Neural Net:90%\n",
    "\n",
    "\n",
    "4. Which model, if any, appeared to overfit the training data the most? Why?\n",
    "\n",
    "The Neural Net model appears to overfit the data a bit because as the F1 value plateaus in the dev set performance. The accuracy continues to be lowers through.\n"
   ]
  }
 ],
 "metadata": {
  "kernelspec": {
   "display_name": "Python 3 (ipykernel)",
   "language": "python",
   "name": "python3"
  },
  "language_info": {
   "codemirror_mode": {
    "name": "ipython",
    "version": 3
   },
   "file_extension": ".py",
   "mimetype": "text/x-python",
   "name": "python",
   "nbconvert_exporter": "python",
   "pygments_lexer": "ipython3",
   "version": "3.10.9"
  }
 },
 "nbformat": 4,
 "nbformat_minor": 4
}
